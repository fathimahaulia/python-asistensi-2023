{
  "nbformat": 4,
  "nbformat_minor": 0,
  "metadata": {
    "colab": {
      "provenance": [],
      "collapsed_sections": [
        "BeOkdK3teFjc",
        "-eSxrgPPemRw"
      ]
    },
    "kernelspec": {
      "name": "python3",
      "display_name": "Python 3"
    },
    "language_info": {
      "name": "python"
    }
  },
  "cells": [
    {
      "cell_type": "markdown",
      "source": [
        "# $\\text{Python Feb 23 | Asistensi 18 | Mini Study Case}$\n",
        "- Pekan = 6\n",
        "- Asistensi = 3\n",
        "- Minggu, 2 April 2023"
      ],
      "metadata": {
        "id": "jM2cikNX0KqA"
      }
    },
    {
      "cell_type": "markdown",
      "source": [
        "- [Mini Case Instruction](https://docs.google.com/document/d/1t9ACvVyYYv-LG3A8Q-ErmFcv0NL4GqVjlw2J-d7L76o/edit?usp=sharing)"
      ],
      "metadata": {
        "id": "QrpjRX0cXgNw"
      }
    },
    {
      "cell_type": "markdown",
      "source": [
        "# **Dictionary** Implementation\n",
        "Asistensi 18\n"
      ],
      "metadata": {
        "id": "BeOkdK3teFjc"
      }
    },
    {
      "cell_type": "markdown",
      "source": [
        "## Buat Class dan Methods"
      ],
      "metadata": {
        "id": "5YvErSAER95J"
      }
    },
    {
      "cell_type": "code",
      "source": [
        "import pandas as pd"
      ],
      "metadata": {
        "id": "FbVu7LIn0YoT"
      },
      "execution_count": null,
      "outputs": []
    },
    {
      "cell_type": "code",
      "source": [
        "class Library():\n",
        "    def __init__(self):\n",
        "        self.data_buku = dict()  # judul sebagai index\n",
        "        self.buku_dipinjam = dict()\n",
        "\n",
        "    def tambah_buku(self, judul, tahun, jumlah):\n",
        "        self.data_buku[judul] = [tahun, jumlah]\n",
        "\n",
        "    def update_judul(self, judul, judul_baru):\n",
        "        self.data_buku[judul_baru] = self.data_buku.pop(judul)\n",
        "        # self.data_buku[judul_baru] = temp\n",
        "        # self.data_buku.update({judul_baru: temp})\n",
        "\n",
        "    def update_tahun(self, judul, tahun_baru):\n",
        "        try:\n",
        "            self.data_buku[judul][0] = tahun_baru\n",
        "        except KeyError:\n",
        "            print('Buku Tersebut Tidak Ada')\n",
        "\n",
        "    def update_jumlah(self, judul, jumlah_baru):\n",
        "        try:\n",
        "            self.data_buku[judul][1] = jumlah_baru\n",
        "        except KeyError:\n",
        "            print('Buku Tersebut Tidak Ada')\n",
        "\n",
        "    def check_data_buku(self):\n",
        "        data = pd.DataFrame((self.data_buku)).T\n",
        "        data.columns = ['Tahun Terbit', 'Jumlah Tersedia']\n",
        "        print(data.to_markdown())\n",
        "\n",
        "    def pinjam_buku(self, judul):\n",
        "        if(self.data_buku[judul][1] == 0):\n",
        "            print('Buku Tidak Tersedia')\n",
        "        else:\n",
        "            # mengurangi data buku -1 di jumlah tersedia\n",
        "            self.update_jumlah(judul, self.data_buku[judul][1]-1)\n",
        "            # menambahkan data di buku yang dipinjam\n",
        "            try:\n",
        "                # judul buku yang dipinjam sudah ada di data buku_dipinjam\n",
        "                self.buku_dipinjam[judul][1] = self.buku_dipinjam[judul][1] + 1\n",
        "            except KeyError:\n",
        "                # judul buku yang dipinjam belum ada di data buku_dipnijam\n",
        "                self.buku_dipinjam[judul] = [self.data_buku[judul][0], 1]\n",
        "\n",
        "    def kembali_buku(self, judul):\n",
        "        if(self.buku_dipinjam[judul][1] == 1):\n",
        "            self.buku_dipinjam.pop(judul)\n",
        "        else:\n",
        "            # mengurangi data buku -1 di buku_dipnijam\n",
        "            self.buku_dipinjam[judul][1] = self.buku_dipinjam[judul][1] - 1\n",
        "            # menambah jumlah buku di data buku\n",
        "            self.data_buku[judul][1] = self.data_buku[judul][1] + 1\n",
        "\n",
        "    def check_buku_dipinjam(self):\n",
        "        data = pd.DataFrame((self.buku_dipinjam)).T\n",
        "        data.columns = ['Tahun Terbit', 'Jumlah Dipinjam']\n",
        "        print(data.to_markdown())"
      ],
      "metadata": {
        "id": "lLmgcf4V2eUG"
      },
      "execution_count": null,
      "outputs": []
    },
    {
      "cell_type": "markdown",
      "source": [
        "## Implementasi Class (Modular Code)"
      ],
      "metadata": {
        "id": "fKzO5T4neNw_"
      }
    },
    {
      "cell_type": "code",
      "source": [
        "lib_1 = Library()\n",
        "lib_1.tambah_buku('Intro Python', '1997', 3)"
      ],
      "metadata": {
        "id": "8o_zStxpeNw_"
      },
      "execution_count": null,
      "outputs": []
    },
    {
      "cell_type": "code",
      "source": [
        "lib_1.tambah_buku('Data Science', '2015', 2)"
      ],
      "metadata": {
        "id": "Sw8QSjlUwNIT"
      },
      "execution_count": null,
      "outputs": []
    },
    {
      "cell_type": "code",
      "source": [
        "lib_1.check_data_buku()"
      ],
      "metadata": {
        "colab": {
          "base_uri": "https://localhost:8080/"
        },
        "id": "SflS4mLAwLUY",
        "outputId": "c13aeecb-4206-4e7b-ff8e-4a30a6714fe2"
      },
      "execution_count": null,
      "outputs": [
        {
          "output_type": "stream",
          "name": "stdout",
          "text": [
            "|              |   Tahun Terbit |   Jumlah Tersedia |\n",
            "|:-------------|---------------:|------------------:|\n",
            "| Intro Python |           1997 |                 3 |\n",
            "| Data Science |           2015 |                 2 |\n"
          ]
        }
      ]
    },
    {
      "cell_type": "code",
      "source": [
        "lib_1.pinjam_buku('Intro Python')"
      ],
      "metadata": {
        "id": "819fKVokyM6D"
      },
      "execution_count": null,
      "outputs": []
    },
    {
      "cell_type": "code",
      "source": [
        "lib_1.check_buku_dipinjam()"
      ],
      "metadata": {
        "colab": {
          "base_uri": "https://localhost:8080/"
        },
        "id": "2tOwwtO73A9L",
        "outputId": "a7d8a573-0463-42a0-d17b-7c6837a006ee"
      },
      "execution_count": null,
      "outputs": [
        {
          "output_type": "stream",
          "name": "stdout",
          "text": [
            "|              |   Tahun Terbit |   Jumlah Dipinjam |\n",
            "|:-------------|---------------:|------------------:|\n",
            "| Intro Python |           1997 |                 0 |\n"
          ]
        }
      ]
    },
    {
      "cell_type": "code",
      "source": [
        "lib_1.kembali_buku('Intro Python')"
      ],
      "metadata": {
        "id": "E8AhLWQZ6OL3"
      },
      "execution_count": null,
      "outputs": []
    },
    {
      "cell_type": "code",
      "source": [
        "import asistensi_18\n",
        "\n",
        "lib_1 = perpustakaan_mini.Library()"
      ],
      "metadata": {
        "id": "m5RVw_7Y7Jea"
      },
      "execution_count": null,
      "outputs": []
    },
    {
      "cell_type": "markdown",
      "source": [
        "# **List** Implementation\n",
        "Asistensi 19\n"
      ],
      "metadata": {
        "id": "-eSxrgPPemRw"
      }
    },
    {
      "cell_type": "markdown",
      "source": [
        "## Buat Class dan Methods"
      ],
      "metadata": {
        "id": "hoDWstjLemRw"
      }
    },
    {
      "cell_type": "code",
      "source": [
        "import pandas as pd"
      ],
      "metadata": {
        "id": "6zpLRZzSZrOJ"
      },
      "execution_count": null,
      "outputs": []
    },
    {
      "cell_type": "code",
      "source": [
        "class Library():\n",
        "    def __init__(self):\n",
        "        self.data_buku = []\n",
        "        self.buku_dipinjam = []\n",
        "\n",
        "    def tambah_buku(self, judul, tahun, jumlah):\n",
        "        self.data_buku.append([judul, tahun, jumlah])\n",
        "\n",
        "    def check_data_buku(self):\n",
        "        if(len(self.data_buku)==0):\n",
        "            print('Tidak Ada Buku di Perpustakaan')\n",
        "        else:\n",
        "            data = pd.DataFrame((self.data_buku))\n",
        "            data.columns = ['Judul', 'Tahun Terbit', 'Jumlah Tersedia']\n",
        "            print(data.to_markdown())\n",
        "\n",
        "    def update_judul(self, judul, judul_baru):\n",
        "        try:\n",
        "            self.data_buku[self.return_index(judul)][0] = tahun_baru\n",
        "            print('Data Judul Berhasil Diperbarui')\n",
        "        except:\n",
        "            print('Buku Tidak Ditemukan')\n",
        "\n",
        "    def update_tahun(self, judul, tahun_baru):\n",
        "        try:\n",
        "            self.data_buku[self.return_index(judul)][1] = tahun_baru\n",
        "            print('Data Tahun Terbit Berhasil Diperbarui')\n",
        "        except:\n",
        "            print('Buku Tidak Ditemukan')\n",
        "\n",
        "    def update_jumlah(self, judul, jumlah_baru):\n",
        "        try:\n",
        "            self.data_buku[self.return_index(judul)][2] = jumlah_baru\n",
        "            print('Data Jumlah Buku Berhasil Diperbarui')\n",
        "        except:\n",
        "            print('Buku Tidak Ditemukan')\n",
        "\n",
        "    def return_index(self, judul):\n",
        "        for i in range(len(self.data_buku)):\n",
        "            if self.data_buku[i][0] == judul:\n",
        "                return i\n",
        "\n",
        "    def return_index_buku(self, judul, nama_peminjam):\n",
        "        for i in range(len(self.buku_dipinjam)):\n",
        "            if self.buku_dipinjam[i][0] == judul and self.buku_dipinjam[i][1] == nama_peminjam:\n",
        "                return i\n",
        "\n",
        "    def check_buku_dipinjam(self):\n",
        "        if(len(self.buku_dipinjam)==0):\n",
        "            print('Tidak Ada Buku yang sedang dipinjam')\n",
        "        else:\n",
        "            data = pd.DataFrame((self.buku_dipinjam))\n",
        "            data.columns = ['Judul', 'Nama Peminjam']\n",
        "            print(data.to_markdown())\n",
        "\n",
        "    def pinjam_buku(self, judul, nama_peminjam):\n",
        "        try:\n",
        "            # mengurangi jumlah buku di data_buku\n",
        "            self.data_buku[self.return_index(judul)][2] -= 1\n",
        "            # menambah data di buku_dipinjam\n",
        "            self.buku_dipinjam.append([judul, nama_peminjam])\n",
        "        except:\n",
        "            print('Buku Tidak Ditemukan')\n",
        "\n",
        "    def kembali_buku(self, judul, nama_peminjam):\n",
        "        # menghapus data peminjaman di buku_dipinjam\n",
        "        self.buku_dipinjam.pop(self.return_index_buku(judul, nama_peminjam))\n",
        "        # menambah data jumlah di data_buku\n",
        "        self.data_buku[self.return_index(judul)][2] += 1"
      ],
      "metadata": {
        "id": "Ym0-UjUqemRw"
      },
      "execution_count": null,
      "outputs": []
    },
    {
      "cell_type": "markdown",
      "source": [
        "## Implementasi Class (Modular Code)"
      ],
      "metadata": {
        "id": "eoVjIWtaemRw"
      }
    },
    {
      "cell_type": "code",
      "source": [
        "lib_1 = Library()\n",
        "lib_1.tambah_buku('Intro Python', '1997', 3)\n",
        "lib_1.tambah_buku('Data Science', '2015', 2)"
      ],
      "metadata": {
        "id": "PvvloNypemRw"
      },
      "execution_count": null,
      "outputs": []
    },
    {
      "cell_type": "code",
      "source": [
        "lib_1.check_data_buku()"
      ],
      "metadata": {
        "colab": {
          "base_uri": "https://localhost:8080/"
        },
        "id": "PaBo-aDcZYey",
        "outputId": "e4c13114-0bf7-4ba8-ef36-1ca9f3afb08a"
      },
      "execution_count": null,
      "outputs": [
        {
          "output_type": "stream",
          "name": "stdout",
          "text": [
            "|    | Judul        |   Tahun Terbit |   Jumlah Tersedia |\n",
            "|---:|:-------------|---------------:|------------------:|\n",
            "|  0 | Intro Python |           1997 |                 2 |\n",
            "|  1 | Data Science |           2015 |                 2 |\n"
          ]
        }
      ]
    },
    {
      "cell_type": "code",
      "source": [
        "lib_1.pinjam_buku('Data Science', 'Fathimah')"
      ],
      "metadata": {
        "id": "HyHKZ1GHat4B"
      },
      "execution_count": null,
      "outputs": []
    },
    {
      "cell_type": "code",
      "source": [
        "lib_1.check_buku_dipinjam()"
      ],
      "metadata": {
        "colab": {
          "base_uri": "https://localhost:8080/"
        },
        "id": "w_gcG60_dWfa",
        "outputId": "a3fd9e8e-8779-4419-8fb7-7124da4147f6"
      },
      "execution_count": null,
      "outputs": [
        {
          "output_type": "stream",
          "name": "stdout",
          "text": [
            "|    | Judul        | Nama Peminjam   |\n",
            "|---:|:-------------|:----------------|\n",
            "|  0 | Intro Python | Fathimah        |\n"
          ]
        }
      ]
    },
    {
      "cell_type": "code",
      "source": [
        "lib_1.kembali_buku('Data Science', 'Fathimah')"
      ],
      "metadata": {
        "id": "pSk_dD8ChFDy"
      },
      "execution_count": null,
      "outputs": []
    },
    {
      "cell_type": "markdown",
      "source": [
        "---\n",
        "# $\\text{Feedback Asistensi}$\n",
        "Terima Kasih telah mengikuti sesi asistensi hari ini! 😀\n",
        "\n",
        "Jangan lupa untuk mengisi feedback juga yaa, link feedback dapat diakses di\n",
        "[sini](https://bit.ly/FeedbackAsistensiSDA-Feb23)\n",
        "- Kelas = Python\n",
        "- Teaching Assistant = Fathimah Aulia"
      ],
      "metadata": {
        "id": "WO8k6aPnNjH3"
      }
    }
  ]
}